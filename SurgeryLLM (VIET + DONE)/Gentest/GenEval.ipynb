{
 "cells": [
  {
   "cell_type": "markdown",
   "metadata": {},
   "source": [
    "# Components"
   ]
  },
  {
   "cell_type": "code",
   "execution_count": 82,
   "metadata": {},
   "outputs": [],
   "source": [
    "sys_prompt = '''\n",
    "You are given a golden standard answer, and two candidates' answer.\n",
    "Your job is to evaluate the accuracy compares to the golden standard of both candidates.\n",
    "Consider only if each has correctly identified abnormal values, and whether they correctly gave the correct reference range values.\n",
    "The reference range is very important, and should not be differ, even by a little.\n",
    "The extras or hallucinated answer should also be disregarded.\n",
    "Finally, explain each's flaws and choose the winner.\n",
    "Some candidate answer may be in Vietnamese, but your result should still be in English.\n",
    "\n",
    "Example format:\n",
    "Cand A's Accuracy(%): ...\n",
    "Cand B's Accuracy(%): ...\n",
    "\n",
    "Comment: ...\n",
    "\n",
    "Winner: ...\n",
    "'''"
   ]
  },
  {
   "cell_type": "code",
   "execution_count": 83,
   "metadata": {},
   "outputs": [],
   "source": [
    "from openai import OpenAI\n",
    "import os\n",
    "\n",
    "client = OpenAI(api_key=os.getenv(\"OPENAI_API_KEY\"))\n",
    "def ask_gpt(prompt: str) -> str:\n",
    "    response = client.chat.completions.create(\n",
    "        model=\"gpt-4o\",\n",
    "        messages=[\n",
    "            {\n",
    "                \"role\": \"system\", \n",
    "                \"content\": sys_prompt\n",
    "            },\n",
    "            {\n",
    "                \"role\": \"user\",\n",
    "                \"content\": prompt,\n",
    "            }\n",
    "        ]\n",
    "    )\n",
    "    return response.choices[0].message.content"
   ]
  },
  {
   "cell_type": "code",
   "execution_count": 84,
   "metadata": {},
   "outputs": [],
   "source": [
    "prompt = '''\n",
    "Golden Standard Answer: {Golden}\n",
    "iKNOW's Answer: {iKNOW}\n",
    "SurgeryLLM's Answer: {SurgeryLLM}\n",
    "\n",
    "iKNOW's Accuracy(%): ...\n",
    "SurgeryLLM's Accuracy(%): ...\n",
    "\n",
    "Comment: ...\n",
    "\n",
    "Winner: ...\n",
    "'''\n",
    "\n",
    "Golden = '''\n",
    "\"- Sodium is elevated, above the normal range of 136–146 mEq/L (hypernatremia).  \n",
    "- Potassium is decreased, below the normal range of 3.5–5.0 mEq/L (hypokalemia).  \n",
    "- Bicarbonate is elevated, above the normal range of 22–28 mEq/L.  \n",
    "- Creatinine is elevated, above the normal range of 0.6–1.2 mg/dL, indicating possible kidney function impairment.  \n",
    "- Fasting glucose is slightly elevated, above the normal range of 70–100 mg/dL.  \n",
    "- LDL Cholesterol is elevated, above the normal upper limit of <160 mg/dL.  \n",
    "- Platelet count is slightly elevated, above the normal range of 150,000–400,000/mm3 (thrombocytosis).  \n",
    "- Hemoglobin A1c is elevated, indicating poorly controlled blood sugar levels over time, above normal range of ≤6%.  \n",
    "- TSH is elevated, above the normal range of 0.4–4.0 μU/mL, which may suggest hypothyroidism.\"\n",
    "'''\n",
    "\n",
    "iKNOW = '''\n",
    "\"### Kết quả ngoài phạm vi tham chiếu:\n",
    "\n",
    "1. **Creatinine**: 1.8 mg/dL (Ngoài phạm vi tham chiếu: 0.6-1.2 mg/dL)\n",
    "   - Ý nghĩa: Chỉ số creatinine cao hơn bình thường có thể chỉ ra vấn đề về chức năng thận.\n",
    "\n",
    "2. **LDL Cholesterol**: 165 mg/dL (Ngoài phạm vi tham chiếu: <160 mg/dL)\n",
    "   - Ý nghĩa: Mức LDL cholesterol cao hơn bình thường có thể tăng nguy cơ mắc bệnh tim mạch.\n",
    "\n",
    "3. **Hemoglobin A1c**: 7% (Ngoài phạm vi tham chiếu: ≤42 mmol/mol hoặc <5.7%)\n",
    "   - Ý nghĩa: Chỉ số Hemoglobin A1c cao hơn bình thường có thể chỉ ra tình trạng đường huyết không được kiểm soát tốt, đặc biệt là ở bệnh nhân tiểu đường.\n",
    "\n",
    "4. **TSH**: 5.5 μU/mL (Ngoài phạm vi tham chiếu: 0.4-4.0 μU/mL)\n",
    "   - Ý nghĩa: Mức TSH cao hơn bình thường có thể chỉ ra tình trạng suy giáp.\"\n",
    "'''\n",
    "\n",
    "SurgeryLLM = '''\n",
    "\"Based on the patient record and reference ranges provided, the following results are outside of the reference ranges:\n",
    "\n",
    "1. **Sodium**: 148 mEq/L (Reference range: 136-145 mEq/L) - Elevated\n",
    "2. **Potassium**: 3.0 mEq/L (Reference range: 3.5-5.0 mEq/L) - Low\n",
    "3. **Bicarbonate**: 30 mEq/L (Reference range: 22-28 mEq/L) - Elevated\n",
    "4. **Creatinine**: 1.8 mg/dL (Reference range: 0.6-1.2 mg/dL) - Elevated\n",
    "5. **Glucose (Fasting)**: 110 mg/dL (Reference range: 70-100 mg/dL) - Elevated\n",
    "6. **LDL Cholesterol**: 165 mg/dL (Note: Typically, a desirable level is less than 100 mg/dL, though this can vary with guidelines) - Elevated\n",
    "7. **Hemoglobin A1c**: 7% (Reference range: ≤6%) - Elevated\n",
    "8. **TSH**: 5.5 μU/mL (Normal range is typically around 0.4-4.0 μU/mL, though this can vary with specific guidelines) - Elevated\"\n",
    "'''"
   ]
  },
  {
   "cell_type": "code",
   "execution_count": 85,
   "metadata": {},
   "outputs": [
    {
     "name": "stdout",
     "output_type": "stream",
     "text": [
      "iKNOW's Accuracy(%): 44%\n",
      "SurgeryLLM's Accuracy(%): 100%\n",
      "\n",
      "Comment: iKNOW identified three abnormalities correctly: elevated creatinine, elevated LDL cholesterol, and elevated TSH. However, the reference range for Hemoglobin A1c was incorrect and did not mention other abnormalities such as sodium, potassium, bicarbonate, fasting glucose, and platelet count. SurgeryLLM correctly identified all abnormalities with accurate reference ranges, except for the description of the LDL cholesterol reference range which mentioned a desirable level rather than a specific upper limit, which slightly differs from the golden standard. However, the rest were perfect matches.\n",
      "\n",
      "Winner: SurgeryLLM\n"
     ]
    }
   ],
   "source": [
    "response = ask_gpt(prompt.format(Golden=Golden, iKNOW=iKNOW, SurgeryLLM=SurgeryLLM))\n",
    "print(response)"
   ]
  }
 ],
 "metadata": {
  "kernelspec": {
   "display_name": ".venv",
   "language": "python",
   "name": "python3"
  },
  "language_info": {
   "codemirror_mode": {
    "name": "ipython",
    "version": 3
   },
   "file_extension": ".py",
   "mimetype": "text/x-python",
   "name": "python",
   "nbconvert_exporter": "python",
   "pygments_lexer": "ipython3",
   "version": "3.12.3"
  }
 },
 "nbformat": 4,
 "nbformat_minor": 2
}
