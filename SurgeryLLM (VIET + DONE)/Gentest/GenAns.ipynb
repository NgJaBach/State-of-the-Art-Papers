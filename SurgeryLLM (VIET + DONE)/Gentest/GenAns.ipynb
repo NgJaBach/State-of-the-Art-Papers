{
 "cells": [
  {
   "cell_type": "markdown",
   "metadata": {},
   "source": [
    "# Components"
   ]
  },
  {
   "cell_type": "code",
   "execution_count": 68,
   "metadata": {},
   "outputs": [],
   "source": [
    "import os\n",
    "from langchain_ollama import OllamaEmbeddings\n",
    "import faiss\n",
    "from langchain_community.docstore.in_memory import InMemoryDocstore\n",
    "from langchain_community.vectorstores import FAISS\n",
    "\n",
    "embeddings = OllamaEmbeddings(model=\"mxbai-embed-large\")\n",
    "\n",
    "d = len(embeddings.embed_query(\"hello world\"))\n",
    "index = faiss.IndexFlatL2(d)\n",
    "\n",
    "vector_store = FAISS(\n",
    "    embedding_function=embeddings,\n",
    "    index=index,\n",
    "    docstore=InMemoryDocstore(),\n",
    "    index_to_docstore_id={}\n",
    ")"
   ]
  },
  {
   "cell_type": "code",
   "execution_count": 69,
   "metadata": {},
   "outputs": [],
   "source": [
    "from openai import OpenAI\n",
    "\n",
    "client = OpenAI(\n",
    "    api_key=os.getenv(\"OPENAI_API_KEY\"),\n",
    "    # base_url=\"https://api.llama-api.com/\"\n",
    ")\n",
    "\n",
    "def ask_gpt(prompt: str, system: str, model=\"gpt-4o\") -> str:\n",
    "    response = client.chat.completions.create(\n",
    "        model=model,\n",
    "        # model=\"llama3.2-3b\",\n",
    "        # model=\"llama3.3-70b\",\n",
    "        messages=[\n",
    "            {\n",
    "                \"role\": \"system\", \n",
    "                \"content\": system\n",
    "            },\n",
    "            {\n",
    "                \"role\": \"user\",\n",
    "                \"content\": prompt,\n",
    "            }\n",
    "        ],\n",
    "        # max_tokens=512\n",
    "    )\n",
    "    return response.choices[0].message.content\n",
    "\n",
    "sys_res = \"Read the context, patient record, and answer the task question. If you don't know, just say you don't know.\"\n",
    "\n",
    "sys_key = \"Extract as much keywords and keyphrases most related to the task from the record as possible, but concisely and raw text.\""
   ]
  },
  {
   "cell_type": "code",
   "execution_count": 70,
   "metadata": {},
   "outputs": [],
   "source": [
    "from langchain_core.documents import Document\n",
    "from langgraph.graph import START, StateGraph\n",
    "from typing_extensions import List, TypedDict\n",
    "\n",
    "# Path to the saved vector store\n",
    "faiss_index_path = \"/home/ngjabach/Documents/State-of-the-Art-Papers/SurgeryLLM (VIET + DONE)/faiss_index\"\n",
    "vector_store = FAISS.load_local(faiss_index_path, embeddings, allow_dangerous_deserialization=True)\n",
    "\n",
    "retriever = vector_store.as_retriever(search_type=\"similarity\", search_kwargs={\"k\": 5})"
   ]
  },
  {
   "cell_type": "code",
   "execution_count": 71,
   "metadata": {},
   "outputs": [],
   "source": [
    "prompt_res = '''\n",
    "---\n",
    "{reference}\n",
    "---\n",
    "A. Record: {record} \n",
    "B. Task: {task}\n",
    "C. Answer:\n",
    "'''\n",
    "\n",
    "prompt_key = '''\n",
    "A. Record: {record}\n",
    "B. Task: {task}\n",
    "'''\n",
    "\n",
    "task1 = \"Check the record and identify results outside of reference ranges.\"\n",
    "task2 = \"Identify unavailable preoperative tests.\"\n",
    "task3 = \"Surgical recommendation.\"\n",
    "task4 = \"Prepare sample operative notes.\"\n",
    "\n",
    "record = '''\n",
    "\"Patient: Alice Johnson  \n",
    "Age: 46, Female  \n",
    "Medical History: Hypertension; Hyperlipidemia  \n",
    "Vital Signs: BP 150/95 mmHg, HR 75 bpm  \n",
    "Laboratory Findings:  \n",
    "- Sodium: 148 mEq/L  \n",
    "- Potassium: 3.0 mEq/L  \n",
    "- Bicarbonate: 30 mEq/L  \n",
    "- Creatinine: 1.8 mg/dL  \n",
    "- Glucose (Fasting): 110 mg/dL  \n",
    "- LDL Cholesterol: 165 mg/dL  \n",
    "- Platelet count: 410,000/mm3  \n",
    "- Hemoglobin A1c: 7%  \n",
    "- TSH: 5.5 μU/mL  \n",
    "\n",
    "Preoperative Workup: Comprehensive metabolic panel, lipid profile  \"\n",
    "'''\n",
    "\n",
    "# print(\"A. Record: \", record)\n",
    "# print(\"B. Task: \", task1)\n",
    "# print(\"C. Answer:...\")"
   ]
  },
  {
   "cell_type": "code",
   "execution_count": 72,
   "metadata": {},
   "outputs": [],
   "source": [
    "class State(TypedDict):\n",
    "    task: str #\n",
    "    record: str #\n",
    "    reference: List[Document]\n",
    "    answer: str\n",
    "\n",
    "def retrieve(state: State):\n",
    "    messages = prompt_key.format(record=state[\"record\"], task=state[\"task\"])\n",
    "    keywords = ask_gpt(messages, sys_key)\n",
    "    docs = retriever.invoke(keywords)\n",
    "    return {\"reference\": docs}\n",
    "\n",
    "def generate(state: State):\n",
    "    docs_content = \"\\n\\n\".join(doc.page_content for doc in state[\"reference\"])\n",
    "    messages = prompt_res.format(record = state[\"record\"], task = state[\"task\"], reference = docs_content)\n",
    "    response = ask_gpt(messages, sys_res)\n",
    "    return {\"answer\": response}\n",
    "\n",
    "graph_builder = StateGraph(State).add_sequence([retrieve, generate])\n",
    "graph_builder.add_edge(START, \"retrieve\")\n",
    "graph = graph_builder.compile()"
   ]
  },
  {
   "cell_type": "code",
   "execution_count": 73,
   "metadata": {},
   "outputs": [
    {
     "name": "stdout",
     "output_type": "stream",
     "text": [
      "Based on the patient record and reference ranges provided, the following results are outside of the reference ranges:\n",
      "\n",
      "1. **Sodium**: 148 mEq/L (Reference range: 136-145 mEq/L) - Elevated\n",
      "2. **Potassium**: 3.0 mEq/L (Reference range: 3.5-5.0 mEq/L) - Low\n",
      "3. **Bicarbonate**: 30 mEq/L (Reference range: 22-28 mEq/L) - Elevated\n",
      "4. **Creatinine**: 1.8 mg/dL (Reference range: 0.6-1.2 mg/dL) - Elevated\n",
      "5. **Glucose (Fasting)**: 110 mg/dL (Reference range: 70-100 mg/dL) - Elevated\n",
      "6. **LDL Cholesterol**: 165 mg/dL (Note: Typically, a desirable level is less than 100 mg/dL, though this can vary with guidelines) - Elevated\n",
      "7. **Hemoglobin A1c**: 7% (Reference range: ≤6%) - Elevated\n",
      "8. **TSH**: 5.5 μU/mL (Normal range is typically around 0.4-4.0 μU/mL, though this can vary with specific guidelines) - Elevated\n",
      "\n",
      "These values indicate abnormalities related to electrolyte imbalance, renal function, glucose control, and lipid levels.\n"
     ]
    }
   ],
   "source": [
    "response = graph.invoke({\"task\": task1, \"record\": record})\n",
    "print(response[\"answer\"])"
   ]
  }
 ],
 "metadata": {
  "kernelspec": {
   "display_name": ".venv",
   "language": "python",
   "name": "python3"
  },
  "language_info": {
   "codemirror_mode": {
    "name": "ipython",
    "version": 3
   },
   "file_extension": ".py",
   "mimetype": "text/x-python",
   "name": "python",
   "nbconvert_exporter": "python",
   "pygments_lexer": "ipython3",
   "version": "3.12.3"
  }
 },
 "nbformat": 4,
 "nbformat_minor": 2
}
