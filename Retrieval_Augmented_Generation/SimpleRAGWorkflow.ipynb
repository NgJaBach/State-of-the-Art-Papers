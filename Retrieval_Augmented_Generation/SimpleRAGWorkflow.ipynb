{
 "cells": [
  {
   "cell_type": "code",
   "execution_count": 1,
   "metadata": {},
   "outputs": [
    {
     "ename": "NameError",
     "evalue": "name 'retriever' is not defined",
     "output_type": "error",
     "traceback": [
      "\u001b[1;31m---------------------------------------------------------------------------\u001b[0m",
      "\u001b[1;31mNameError\u001b[0m                                 Traceback (most recent call last)",
      "Cell \u001b[1;32mIn[1], line 15\u001b[0m\n\u001b[0;32m     12\u001b[0m question \u001b[38;5;241m=\u001b[39m \u001b[38;5;124m\"\"\"\u001b[39m\u001b[38;5;124mWhat are the main components of an LLM-powered autonomous agent system?\u001b[39m\u001b[38;5;124m\"\"\"\u001b[39m\n\u001b[0;32m     14\u001b[0m \u001b[38;5;66;03m# Retrieve relevant documents\u001b[39;00m\n\u001b[1;32m---> 15\u001b[0m docs \u001b[38;5;241m=\u001b[39m \u001b[43mretriever\u001b[49m\u001b[38;5;241m.\u001b[39minvoke(question)\n\u001b[0;32m     17\u001b[0m \u001b[38;5;66;03m# Combine the documents into a single string\u001b[39;00m\n\u001b[0;32m     18\u001b[0m docs_text \u001b[38;5;241m=\u001b[39m \u001b[38;5;124m\"\u001b[39m\u001b[38;5;124m\"\u001b[39m\u001b[38;5;241m.\u001b[39mjoin(d\u001b[38;5;241m.\u001b[39mpage_content \u001b[38;5;28;01mfor\u001b[39;00m d \u001b[38;5;129;01min\u001b[39;00m docs)\n",
      "\u001b[1;31mNameError\u001b[0m: name 'retriever' is not defined"
     ]
    }
   ],
   "source": [
    "from langchain_openai import ChatOpenAI\n",
    "from langchain_core.messages import SystemMessage, HumanMessage\n",
    "\n",
    "# Define a system prompt that tells the model how to use the retrieved context\n",
    "system_prompt = \"\"\"You are an assistant for question-answering tasks. \n",
    "Use the following pieces of retrieved context to answer the question. \n",
    "If you don't know the answer, just say that you don't know. \n",
    "Use three sentences maximum and keep the answer concise.\n",
    "Context: {context}:\"\"\"\n",
    "    \n",
    "# Define a question\n",
    "question = \"\"\"What are the main components of an LLM-powered autonomous agent system?\"\"\"\n",
    "\n",
    "# Retrieve relevant documents\n",
    "docs = retriever.invoke(question)\n",
    "\n",
    "# Combine the documents into a single string\n",
    "docs_text = \"\".join(d.page_content for d in docs)\n",
    "\n",
    "# Populate the system prompt with the retrieved context\n",
    "system_prompt_fmt = system_prompt.format(context=docs_text)\n",
    "\n",
    "# Create a model\n",
    "model = ChatOpenAI(model=\"gpt-4o\", temperature=0) \n",
    "\n",
    "# Generate a response\n",
    "questions = model.invoke([SystemMessage(content=system_prompt_fmt),\n",
    "                          HumanMessage(content=question)])"
   ]
  }
 ],
 "metadata": {
  "kernelspec": {
   "display_name": "Python 3",
   "language": "python",
   "name": "python3"
  },
  "language_info": {
   "codemirror_mode": {
    "name": "ipython",
    "version": 3
   },
   "file_extension": ".py",
   "mimetype": "text/x-python",
   "name": "python",
   "nbconvert_exporter": "python",
   "pygments_lexer": "ipython3",
   "version": "3.12.7"
  }
 },
 "nbformat": 4,
 "nbformat_minor": 2
}
