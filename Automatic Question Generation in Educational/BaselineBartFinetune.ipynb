{
 "cells": [
  {
   "cell_type": "code",
   "execution_count": 1,
   "metadata": {
    "execution": {
     "iopub.execute_input": "2025-03-24T07:11:21.684589Z",
     "iopub.status.busy": "2025-03-24T07:11:21.684266Z",
     "iopub.status.idle": "2025-03-24T07:11:29.376617Z",
     "shell.execute_reply": "2025-03-24T07:11:29.375419Z",
     "shell.execute_reply.started": "2025-03-24T07:11:21.684534Z"
    },
    "trusted": true
   },
   "outputs": [
    {
     "name": "stderr",
     "output_type": "stream",
     "text": [
      "\u001b[34m\u001b[1mwandb\u001b[0m: Using wandb-core as the SDK backend.  Please refer to https://wandb.me/wandb-core for more information.\n",
      "\u001b[34m\u001b[1mwandb\u001b[0m: Currently logged in as: \u001b[33mngjabach\u001b[0m (\u001b[33mngjabach-hanoi-university-of-science-and-technology\u001b[0m). Use \u001b[1m`wandb login --relogin`\u001b[0m to force relogin\n",
      "\u001b[34m\u001b[1mwandb\u001b[0m: \u001b[33mWARNING\u001b[0m If you're specifying your api key in code, ensure this code is not shared publicly.\n",
      "\u001b[34m\u001b[1mwandb\u001b[0m: \u001b[33mWARNING\u001b[0m Consider setting the WANDB_API_KEY environment variable, or running `wandb login` from the command line.\n",
      "\u001b[34m\u001b[1mwandb\u001b[0m: Appending key for api.wandb.ai to your netrc file: /root/.netrc\n"
     ]
    },
    {
     "data": {
      "text/plain": [
       "True"
      ]
     },
     "execution_count": 1,
     "metadata": {},
     "output_type": "execute_result"
    }
   ],
   "source": [
    "import wandb\n",
    "from kaggle_secrets import UserSecretsClient\n",
    "wandb_key = UserSecretsClient().get_secret(\"wannabe\")\n",
    "wandb.login(key=wandb_key)"
   ]
  },
  {
   "cell_type": "code",
   "execution_count": 2,
   "metadata": {
    "execution": {
     "iopub.execute_input": "2025-03-24T07:11:29.378427Z",
     "iopub.status.busy": "2025-03-24T07:11:29.377897Z",
     "iopub.status.idle": "2025-03-24T07:11:39.832143Z",
     "shell.execute_reply": "2025-03-24T07:11:39.830683Z",
     "shell.execute_reply.started": "2025-03-24T07:11:29.378395Z"
    },
    "trusted": true
   },
   "outputs": [
    {
     "name": "stdout",
     "output_type": "stream",
     "text": [
      "Using device: cuda\n"
     ]
    }
   ],
   "source": [
    "from transformers import AutoModelForSeq2SeqLM, AutoTokenizer\n",
    "import torch\n",
    "import os\n",
    "\n",
    "device = torch.device(\"cuda\" if torch.cuda.is_available() else \"cpu\")\n",
    "print(f\"Using device: {device}\")\n",
    "\n",
    "model_name = 'facebook/bart-large'\n",
    "tokenizer = AutoTokenizer.from_pretrained(model_name)\n",
    "model = AutoModelForSeq2SeqLM.from_pretrained(model_name).to(device)"
   ]
  },
  {
   "cell_type": "code",
   "execution_count": 3,
   "metadata": {
    "execution": {
     "iopub.execute_input": "2025-03-24T07:11:39.836074Z",
     "iopub.status.busy": "2025-03-24T07:11:39.835025Z",
     "iopub.status.idle": "2025-03-24T07:11:40.404322Z",
     "shell.execute_reply": "2025-03-24T07:11:40.403135Z",
     "shell.execute_reply.started": "2025-03-24T07:11:39.836036Z"
    },
    "trusted": true
   },
   "outputs": [
    {
     "name": "stdout",
     "output_type": "stream",
     "text": [
      "<__main__.TokenDataset object at 0x7aceb8f0d720>\n"
     ]
    }
   ],
   "source": [
    "import pandas as pd\n",
    "\n",
    "class TokenDataset(torch.utils.data.Dataset):\n",
    "    def __init__(self, encodings, labels):\n",
    "        self.encodings = encodings\n",
    "        self.labels = labels\n",
    "    def __getitem__(self, idx):\n",
    "        item = {key: torch.tensor(val[idx]) for key, val in self.encodings.items()}\n",
    "        item['labels'] = torch.tensor(self.labels['input_ids'][idx])\n",
    "        return item\n",
    "    def __len__(self):\n",
    "        return len(self.labels['input_ids'])\n",
    "\n",
    "def tokenize_data(train_question, train_context):\n",
    "    encodings = tokenizer(train_context, truncation=True, padding=True, max_length = 512)\n",
    "    decodings = tokenizer(train_question, truncation=True, padding=True, max_length = 512)\n",
    "    dataset_tokenized = TokenDataset(encodings, decodings)\n",
    "    return dataset_tokenized\n",
    "\n",
    "df = pd.read_csv(\"/kaggle/input/qag-wop/QAG_Train_wop.csv\")\n",
    "df.rename(columns = {'question':'question', 'context':'context'}, inplace = True)\n",
    "df.keys()\n",
    "\n",
    "train_question, train_context = (list(df['question'])), (list(df['context']))\n",
    "train_data = tokenize_data(train_question, train_context)\n",
    "\n",
    "print(train_data)"
   ]
  },
  {
   "cell_type": "code",
   "execution_count": 4,
   "metadata": {
    "execution": {
     "iopub.execute_input": "2025-03-24T07:11:40.405905Z",
     "iopub.status.busy": "2025-03-24T07:11:40.405638Z",
     "iopub.status.idle": "2025-03-24T08:54:34.715187Z",
     "shell.execute_reply": "2025-03-24T08:54:34.714427Z",
     "shell.execute_reply.started": "2025-03-24T07:11:40.405884Z"
    },
    "trusted": true
   },
   "outputs": [
    {
     "data": {
      "text/html": [
       "Tracking run with wandb version 0.19.1"
      ],
      "text/plain": [
       "<IPython.core.display.HTML object>"
      ]
     },
     "metadata": {},
     "output_type": "display_data"
    },
    {
     "data": {
      "text/html": [
       "Run data is saved locally in <code>/kaggle/working/wandb/run-20250324_071141-rv9ygaow</code>"
      ],
      "text/plain": [
       "<IPython.core.display.HTML object>"
      ]
     },
     "metadata": {},
     "output_type": "display_data"
    },
    {
     "data": {
      "text/html": [
       "Syncing run <strong><a href='https://wandb.ai/ngjabach-hanoi-university-of-science-and-technology/huggingface/runs/rv9ygaow' target=\"_blank\">bart-large-finetuning</a></strong> to <a href='https://wandb.ai/ngjabach-hanoi-university-of-science-and-technology/huggingface' target=\"_blank\">Weights & Biases</a> (<a href='https://wandb.me/developer-guide' target=\"_blank\">docs</a>)<br>"
      ],
      "text/plain": [
       "<IPython.core.display.HTML object>"
      ]
     },
     "metadata": {},
     "output_type": "display_data"
    },
    {
     "data": {
      "text/html": [
       " View project at <a href='https://wandb.ai/ngjabach-hanoi-university-of-science-and-technology/huggingface' target=\"_blank\">https://wandb.ai/ngjabach-hanoi-university-of-science-and-technology/huggingface</a>"
      ],
      "text/plain": [
       "<IPython.core.display.HTML object>"
      ]
     },
     "metadata": {},
     "output_type": "display_data"
    },
    {
     "data": {
      "text/html": [
       " View run at <a href='https://wandb.ai/ngjabach-hanoi-university-of-science-and-technology/huggingface/runs/rv9ygaow' target=\"_blank\">https://wandb.ai/ngjabach-hanoi-university-of-science-and-technology/huggingface/runs/rv9ygaow</a>"
      ],
      "text/plain": [
       "<IPython.core.display.HTML object>"
      ]
     },
     "metadata": {},
     "output_type": "display_data"
    },
    {
     "data": {
      "text/html": [
       "\n",
       "    <div>\n",
       "      \n",
       "      <progress value='22424' max='22424' style='width:300px; height:20px; vertical-align: middle;'></progress>\n",
       "      [22424/22424 1:42:42, Epoch 8/8]\n",
       "    </div>\n",
       "    <table border=\"1\" class=\"dataframe\">\n",
       "  <thead>\n",
       " <tr style=\"text-align: left;\">\n",
       "      <th>Step</th>\n",
       "      <th>Training Loss</th>\n",
       "    </tr>\n",
       "  </thead>\n",
       "  <tbody>\n",
       "    <tr>\n",
       "      <td>2000</td>\n",
       "      <td>1.231300</td>\n",
       "    </tr>\n",
       "    <tr>\n",
       "      <td>4000</td>\n",
       "      <td>0.296900</td>\n",
       "    </tr>\n",
       "    <tr>\n",
       "      <td>6000</td>\n",
       "      <td>0.269900</td>\n",
       "    </tr>\n",
       "    <tr>\n",
       "      <td>8000</td>\n",
       "      <td>0.211200</td>\n",
       "    </tr>\n",
       "    <tr>\n",
       "      <td>10000</td>\n",
       "      <td>0.163100</td>\n",
       "    </tr>\n",
       "    <tr>\n",
       "      <td>12000</td>\n",
       "      <td>0.110500</td>\n",
       "    </tr>\n",
       "    <tr>\n",
       "      <td>14000</td>\n",
       "      <td>0.090500</td>\n",
       "    </tr>\n",
       "    <tr>\n",
       "      <td>16000</td>\n",
       "      <td>0.059700</td>\n",
       "    </tr>\n",
       "    <tr>\n",
       "      <td>18000</td>\n",
       "      <td>0.050000</td>\n",
       "    </tr>\n",
       "    <tr>\n",
       "      <td>20000</td>\n",
       "      <td>0.039000</td>\n",
       "    </tr>\n",
       "    <tr>\n",
       "      <td>22000</td>\n",
       "      <td>0.022200</td>\n",
       "    </tr>\n",
       "  </tbody>\n",
       "</table><p>"
      ],
      "text/plain": [
       "<IPython.core.display.HTML object>"
      ]
     },
     "metadata": {},
     "output_type": "display_data"
    },
    {
     "name": "stderr",
     "output_type": "stream",
     "text": [
      "/usr/local/lib/python3.10/dist-packages/transformers/modeling_utils.py:2817: UserWarning: Moving the following attributes in the config to the generation config: {'early_stopping': True, 'num_beams': 4, 'no_repeat_ngram_size': 3, 'forced_bos_token_id': 0}. You are seeing this warning because you've set generation parameters in the model config, as opposed to in the generation config.\n",
      "  warnings.warn(\n"
     ]
    }
   ],
   "source": [
    "from transformers import TrainingArguments, Trainer\n",
    "\n",
    "training_args = TrainingArguments(\n",
    "    run_name='bart-large-finetuning',\n",
    "    output_dir='./results',\n",
    "    save_strategy=\"no\",\n",
    "    logging_strategy=\"steps\",\n",
    "    logging_steps=2000,\n",
    "    logging_dir=None,\n",
    "    per_device_train_batch_size=1,\n",
    "    num_train_epochs=8,\n",
    "    warmup_steps=500,\n",
    "    weight_decay=0.01,\n",
    "    fp16=True\n",
    ")\n",
    "\n",
    "trainer = Trainer(\n",
    "    model=model,\n",
    "    args=training_args,\n",
    "    processing_class=tokenizer,\n",
    "    train_dataset=train_data\n",
    ")\n",
    "\n",
    "trainer.train()\n",
    "\n",
    "model.save_pretrained(\"bart-baseline\")"
   ]
  },
  {
   "cell_type": "code",
   "execution_count": 10,
   "metadata": {
    "execution": {
     "iopub.execute_input": "2025-03-24T09:34:41.804502Z",
     "iopub.status.busy": "2025-03-24T09:34:41.804215Z",
     "iopub.status.idle": "2025-03-24T09:34:42.082194Z",
     "shell.execute_reply": "2025-03-24T09:34:42.081295Z",
     "shell.execute_reply.started": "2025-03-24T09:34:41.804481Z"
    },
    "trusted": true
   },
   "outputs": [
    {
     "name": "stdout",
     "output_type": "stream",
     "text": [
      "Summary: What do you mean by fox running over white fox?\n"
     ]
    }
   ],
   "source": [
    "dialogue = \"Fox running over white fox.\"\n",
    "\n",
    "input_ids = tokenizer(dialogue, return_tensors='pt', \n",
    "                      max_length=1024, truncation=True).input_ids.to(device)\n",
    "output = model.generate(input_ids, max_length=1024, early_stopping=False)\n",
    "\n",
    "summary = tokenizer.decode(output[0], skip_special_tokens=True)\n",
    "print(f\"Summary: {summary}\")"
   ]
  },
  {
   "cell_type": "code",
   "execution_count": 7,
   "metadata": {
    "execution": {
     "iopub.execute_input": "2025-03-24T08:55:30.904969Z",
     "iopub.status.busy": "2025-03-24T08:55:30.904660Z",
     "iopub.status.idle": "2025-03-24T08:55:30.913261Z",
     "shell.execute_reply": "2025-03-24T08:55:30.912362Z",
     "shell.execute_reply.started": "2025-03-24T08:55:30.904943Z"
    },
    "trusted": true
   },
   "outputs": [
    {
     "name": "stdout",
     "output_type": "stream",
     "text": [
      "/kaggle/working\n"
     ]
    },
    {
     "data": {
      "text/html": [
       "<a href='bart-baseline/model.safetensors' target='_blank'>bart-baseline/model.safetensors</a><br>"
      ],
      "text/plain": [
       "/kaggle/working/bart-baseline/model.safetensors"
      ]
     },
     "execution_count": 7,
     "metadata": {},
     "output_type": "execute_result"
    }
   ],
   "source": [
    "%cd /kaggle/working\n",
    "from IPython.display import FileLink\n",
    "FileLink('bart-baseline/model.safetensors')"
   ]
  }
 ],
 "metadata": {
  "kaggle": {
   "accelerator": "gpu",
   "dataSources": [
    {
     "datasetId": 6938589,
     "sourceId": 11125995,
     "sourceType": "datasetVersion"
    }
   ],
   "dockerImageVersionId": 30919,
   "isGpuEnabled": true,
   "isInternetEnabled": true,
   "language": "python",
   "sourceType": "notebook"
  },
  "kernelspec": {
   "display_name": "Python 3",
   "language": "python",
   "name": "python3"
  },
  "language_info": {
   "codemirror_mode": {
    "name": "ipython",
    "version": 3
   },
   "file_extension": ".py",
   "mimetype": "text/x-python",
   "name": "python",
   "nbconvert_exporter": "python",
   "pygments_lexer": "ipython3",
   "version": "3.12.7"
  }
 },
 "nbformat": 4,
 "nbformat_minor": 4
}
